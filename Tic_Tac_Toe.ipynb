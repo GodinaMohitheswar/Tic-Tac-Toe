{
  "nbformat": 4,
  "nbformat_minor": 0,
  "metadata": {
    "colab": {
      "provenance": [],
      "authorship_tag": "ABX9TyO9P4iZzOBG497jOU3IQ3Ew",
      "include_colab_link": true
    },
    "kernelspec": {
      "name": "python3",
      "display_name": "Python 3"
    },
    "language_info": {
      "name": "python"
    }
  },
  "cells": [
    {
      "cell_type": "markdown",
      "metadata": {
        "id": "view-in-github",
        "colab_type": "text"
      },
      "source": [
        "<a href=\"https://colab.research.google.com/github/GodinaMohitheswar/Tic-Tac-Toe/blob/main/Tic_Tac_Toe.ipynb\" target=\"_parent\"><img src=\"https://colab.research.google.com/assets/colab-badge.svg\" alt=\"Open In Colab\"/></a>"
      ]
    },
    {
      "cell_type": "code",
      "execution_count": null,
      "metadata": {
        "id": "Mc8y3OW9_2WJ"
      },
      "outputs": [],
      "source": [
        "import math"
      ]
    },
    {
      "cell_type": "code",
      "source": [
        "def create_board():\n",
        "    return [' ' for _ in range(9)]"
      ],
      "metadata": {
        "id": "QZBczdRS_5tp"
      },
      "execution_count": null,
      "outputs": []
    },
    {
      "cell_type": "code",
      "source": [
        "def print_board(board):\n",
        "    for row in [board[i*3:(i+1)*3] for i in range(3)]:\n",
        "        print('| ' + ' | '.join(row) + ' |')"
      ],
      "metadata": {
        "id": "wNJJYPopAAPy"
      },
      "execution_count": null,
      "outputs": []
    },
    {
      "cell_type": "code",
      "source": [
        "def is_winner(board, player):\n",
        "    # Define the winning combinations\n",
        "    win_combinations = [\n",
        "        [0, 1, 2], [3, 4, 5], [6, 7, 8], # Rows\n",
        "        [0, 3, 6], [1, 4, 7], [2, 5, 8], # Columns\n",
        "        [0, 4, 8], [2, 4, 6]             # Diagonals\n",
        "    ]\n",
        "    for combo in win_combinations:\n",
        "        if all(board[i] == player for i in combo):\n",
        "            return True\n",
        "    return False"
      ],
      "metadata": {
        "id": "f00x0ut9ACuA"
      },
      "execution_count": null,
      "outputs": []
    },
    {
      "cell_type": "code",
      "source": [
        "def is_board_full(board):\n",
        "    return ' ' not in board"
      ],
      "metadata": {
        "id": "THJEEeyDAMPZ"
      },
      "execution_count": null,
      "outputs": []
    },
    {
      "cell_type": "code",
      "source": [
        "def get_empty_positions(board):\n",
        "    return [i for i, spot in enumerate(board) if spot == ' ']"
      ],
      "metadata": {
        "id": "p5S0ac1AAPng"
      },
      "execution_count": null,
      "outputs": []
    },
    {
      "cell_type": "code",
      "source": [
        "def minimax(board, depth, is_maximizing, alpha, beta):\n",
        "    if is_winner(board, 'O'):\n",
        "        return 1\n",
        "    elif is_winner(board, 'X'):\n",
        "        return -1\n",
        "    elif is_board_full(board):\n",
        "        return 0\n",
        "\n",
        "    if is_maximizing:\n",
        "        best_score = -math.inf\n",
        "        for position in get_empty_positions(board):\n",
        "            board[position] = 'O'\n",
        "            score = minimax(board, depth + 1, False, alpha, beta)\n",
        "            board[position] = ' '\n",
        "            best_score = max(score, best_score)\n",
        "            alpha = max(alpha, best_score)\n",
        "            if beta <= alpha:\n",
        "                break\n",
        "        return best_score\n",
        "    else:\n",
        "        best_score = math.inf\n",
        "        for position in get_empty_positions(board):\n",
        "            board[position] = 'X'\n",
        "            score = minimax(board, depth + 1, True, alpha, beta)\n",
        "            board[position] = ' '\n",
        "            best_score = min(score, best_score)\n",
        "            beta = min(beta, best_score)\n",
        "            if beta <= alpha:\n",
        "                break\n",
        "        return best_score"
      ],
      "metadata": {
        "id": "HjWtq0i6ASCf"
      },
      "execution_count": null,
      "outputs": []
    },
    {
      "cell_type": "code",
      "source": [
        "def ai_move(board):\n",
        "    best_score = -math.inf\n",
        "    best_move = None\n",
        "    for position in get_empty_positions(board):\n",
        "        board[position] = 'O'\n",
        "        score = minimax(board, 0, False, -math.inf, math.inf)\n",
        "        board[position] = ' '\n",
        "        if score > best_score:\n",
        "            best_score = score\n",
        "            best_move = position\n",
        "    return best_move"
      ],
      "metadata": {
        "id": "TWQ0ELNiAWB3"
      },
      "execution_count": null,
      "outputs": []
    },
    {
      "cell_type": "code",
      "source": [
        "def player_move(board):\n",
        "    move = int(input(\"Enter your move (1-9): \")) - 1\n",
        "    if board[move] != ' ':\n",
        "        print(\"Invalid move. Try again.\")\n",
        "        return player_move(board)\n",
        "    return move"
      ],
      "metadata": {
        "id": "vKBd-DXQAZUY"
      },
      "execution_count": null,
      "outputs": []
    },
    {
      "cell_type": "code",
      "source": [
        "def main():\n",
        "    board = create_board()\n",
        "    print_board(board)\n",
        "\n",
        "    while True:\n",
        "        # Player move\n",
        "        move = player_move(board)\n",
        "        board[move] = 'X'\n",
        "        print_board(board)\n",
        "\n",
        "        if is_winner(board, 'X'):\n",
        "            print(\"Congratulations! You win!\")\n",
        "            break\n",
        "        elif is_board_full(board):\n",
        "            print(\"It's a tie!\")\n",
        "            break\n",
        "\n",
        "        # AI move\n",
        "        print(\"AI is making a move...\")\n",
        "        move = ai_move(board)\n",
        "        board[move] = 'O'\n",
        "        print_board(board)\n",
        "\n",
        "        if is_winner(board, 'O'):\n",
        "            print(\"AI wins!\")\n",
        "            break\n",
        "        elif is_board_full(board):\n",
        "            print(\"It's a tie!\")\n",
        "            break"
      ],
      "metadata": {
        "id": "1IP_dfw_AfeP"
      },
      "execution_count": null,
      "outputs": []
    },
    {
      "cell_type": "code",
      "source": [
        "if __name__ == \"__main__\":\n",
        "    main()"
      ],
      "metadata": {
        "colab": {
          "base_uri": "https://localhost:8080/"
        },
        "id": "t76-_GrbAki2",
        "outputId": "e507b8dc-97ef-4a11-f94c-af7c1a16a243"
      },
      "execution_count": null,
      "outputs": [
        {
          "output_type": "stream",
          "name": "stdout",
          "text": [
            "|   |   |   |\n",
            "|   |   |   |\n",
            "|   |   |   |\n",
            "Enter your move (1-9): 1\n",
            "| X |   |   |\n",
            "|   |   |   |\n",
            "|   |   |   |\n",
            "AI is making a move...\n",
            "| X |   |   |\n",
            "|   | O |   |\n",
            "|   |   |   |\n",
            "Enter your move (1-9): 9\n",
            "| X |   |   |\n",
            "|   | O |   |\n",
            "|   |   | X |\n",
            "AI is making a move...\n",
            "| X | O |   |\n",
            "|   | O |   |\n",
            "|   |   | X |\n",
            "Enter your move (1-9): 8\n",
            "| X | O |   |\n",
            "|   | O |   |\n",
            "|   | X | X |\n",
            "AI is making a move...\n",
            "| X | O |   |\n",
            "|   | O |   |\n",
            "| O | X | X |\n",
            "Enter your move (1-9): 3\n",
            "| X | O | X |\n",
            "|   | O |   |\n",
            "| O | X | X |\n",
            "AI is making a move...\n",
            "| X | O | X |\n",
            "|   | O | O |\n",
            "| O | X | X |\n",
            "Enter your move (1-9): 4\n",
            "| X | O | X |\n",
            "| X | O | O |\n",
            "| O | X | X |\n",
            "It's a tie!\n"
          ]
        }
      ]
    },
    {
      "cell_type": "code",
      "source": [],
      "metadata": {
        "id": "twHePo_RAu45"
      },
      "execution_count": null,
      "outputs": []
    }
  ]
}